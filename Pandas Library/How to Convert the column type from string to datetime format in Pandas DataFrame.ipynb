{
 "cells": [
  {
   "cell_type": "markdown",
   "metadata": {},
   "source": [
    "## How to Convert the column type from string to datetime format in Pandas DataFrame"
   ]
  },
  {
   "cell_type": "markdown",
   "metadata": {},
   "source": [
    "While working with data in Pandas, it is not an unusual thing to encounter time series data and we know Pandas is a very useful tool for working with time series data in python."
   ]
  },
  {
   "cell_type": "code",
   "execution_count": 1,
   "metadata": {},
   "outputs": [],
   "source": [
    "# importing pandas as pd \n",
    "import pandas as pd"
   ]
  },
  {
   "cell_type": "code",
   "execution_count": 2,
   "metadata": {},
   "outputs": [],
   "source": [
    "# Creating the dataframe\n",
    "df=pd.DataFrame({'Date1':['2020-12-01','2020-12-02','2020-12-03','2020-12-04','2020-12-05'],\n",
    "                 'Date2':['201201','201202','201203','201204','201205'],\n",
    "                 'Store':['A1','B1','E2','C1','D1'],\n",
    "                 'Sales':[2000,4000,5000,2000,6000]})"
   ]
  },
  {
   "cell_type": "code",
   "execution_count": 3,
   "metadata": {},
   "outputs": [
    {
     "data": {
      "text/html": [
       "<div>\n",
       "<style scoped>\n",
       "    .dataframe tbody tr th:only-of-type {\n",
       "        vertical-align: middle;\n",
       "    }\n",
       "\n",
       "    .dataframe tbody tr th {\n",
       "        vertical-align: top;\n",
       "    }\n",
       "\n",
       "    .dataframe thead th {\n",
       "        text-align: right;\n",
       "    }\n",
       "</style>\n",
       "<table border=\"1\" class=\"dataframe\">\n",
       "  <thead>\n",
       "    <tr style=\"text-align: right;\">\n",
       "      <th></th>\n",
       "      <th>Date1</th>\n",
       "      <th>Date2</th>\n",
       "      <th>Store</th>\n",
       "      <th>Sales</th>\n",
       "    </tr>\n",
       "  </thead>\n",
       "  <tbody>\n",
       "    <tr>\n",
       "      <th>0</th>\n",
       "      <td>2020-12-01</td>\n",
       "      <td>201201</td>\n",
       "      <td>A1</td>\n",
       "      <td>2000</td>\n",
       "    </tr>\n",
       "    <tr>\n",
       "      <th>1</th>\n",
       "      <td>2020-12-02</td>\n",
       "      <td>201202</td>\n",
       "      <td>B1</td>\n",
       "      <td>4000</td>\n",
       "    </tr>\n",
       "    <tr>\n",
       "      <th>2</th>\n",
       "      <td>2020-12-03</td>\n",
       "      <td>201203</td>\n",
       "      <td>E2</td>\n",
       "      <td>5000</td>\n",
       "    </tr>\n",
       "    <tr>\n",
       "      <th>3</th>\n",
       "      <td>2020-12-04</td>\n",
       "      <td>201204</td>\n",
       "      <td>C1</td>\n",
       "      <td>2000</td>\n",
       "    </tr>\n",
       "    <tr>\n",
       "      <th>4</th>\n",
       "      <td>2020-12-05</td>\n",
       "      <td>201205</td>\n",
       "      <td>D1</td>\n",
       "      <td>6000</td>\n",
       "    </tr>\n",
       "  </tbody>\n",
       "</table>\n",
       "</div>"
      ],
      "text/plain": [
       "        Date1   Date2 Store  Sales\n",
       "0  2020-12-01  201201    A1   2000\n",
       "1  2020-12-02  201202    B1   4000\n",
       "2  2020-12-03  201203    E2   5000\n",
       "3  2020-12-04  201204    C1   2000\n",
       "4  2020-12-05  201205    D1   6000"
      ]
     },
     "execution_count": 3,
     "metadata": {},
     "output_type": "execute_result"
    }
   ],
   "source": [
    "# Print the dataframe\n",
    "df"
   ]
  },
  {
   "cell_type": "code",
   "execution_count": 4,
   "metadata": {},
   "outputs": [
    {
     "data": {
      "text/plain": [
       "Date1    object\n",
       "Date2    object\n",
       "Store    object\n",
       "Sales     int64\n",
       "dtype: object"
      ]
     },
     "execution_count": 4,
     "metadata": {},
     "output_type": "execute_result"
    }
   ],
   "source": [
    "# Now we will check the data type  \n",
    "# of the 'Date' column\n",
    "df.dtypes"
   ]
  },
  {
   "cell_type": "code",
   "execution_count": null,
   "metadata": {},
   "outputs": [],
   "source": [
    "# to_datetime function use to convert datetime datatype"
   ]
  },
  {
   "cell_type": "code",
   "execution_count": 5,
   "metadata": {},
   "outputs": [],
   "source": [
    "# convert the 'Date1' column to datetime format\n",
    "df['Date11']=pd.to_datetime(df.Date1)\n",
    "#or\n",
    "#df['Date13'] = df['Date1'].astype('datetime64[ns]')"
   ]
  },
  {
   "cell_type": "code",
   "execution_count": 6,
   "metadata": {},
   "outputs": [
    {
     "data": {
      "text/html": [
       "<div>\n",
       "<style scoped>\n",
       "    .dataframe tbody tr th:only-of-type {\n",
       "        vertical-align: middle;\n",
       "    }\n",
       "\n",
       "    .dataframe tbody tr th {\n",
       "        vertical-align: top;\n",
       "    }\n",
       "\n",
       "    .dataframe thead th {\n",
       "        text-align: right;\n",
       "    }\n",
       "</style>\n",
       "<table border=\"1\" class=\"dataframe\">\n",
       "  <thead>\n",
       "    <tr style=\"text-align: right;\">\n",
       "      <th></th>\n",
       "      <th>Date1</th>\n",
       "      <th>Date2</th>\n",
       "      <th>Store</th>\n",
       "      <th>Sales</th>\n",
       "      <th>Date11</th>\n",
       "    </tr>\n",
       "  </thead>\n",
       "  <tbody>\n",
       "    <tr>\n",
       "      <th>0</th>\n",
       "      <td>2020-12-01</td>\n",
       "      <td>201201</td>\n",
       "      <td>A1</td>\n",
       "      <td>2000</td>\n",
       "      <td>2020-12-01</td>\n",
       "    </tr>\n",
       "    <tr>\n",
       "      <th>1</th>\n",
       "      <td>2020-12-02</td>\n",
       "      <td>201202</td>\n",
       "      <td>B1</td>\n",
       "      <td>4000</td>\n",
       "      <td>2020-12-02</td>\n",
       "    </tr>\n",
       "    <tr>\n",
       "      <th>2</th>\n",
       "      <td>2020-12-03</td>\n",
       "      <td>201203</td>\n",
       "      <td>E2</td>\n",
       "      <td>5000</td>\n",
       "      <td>2020-12-03</td>\n",
       "    </tr>\n",
       "    <tr>\n",
       "      <th>3</th>\n",
       "      <td>2020-12-04</td>\n",
       "      <td>201204</td>\n",
       "      <td>C1</td>\n",
       "      <td>2000</td>\n",
       "      <td>2020-12-04</td>\n",
       "    </tr>\n",
       "    <tr>\n",
       "      <th>4</th>\n",
       "      <td>2020-12-05</td>\n",
       "      <td>201205</td>\n",
       "      <td>D1</td>\n",
       "      <td>6000</td>\n",
       "      <td>2020-12-05</td>\n",
       "    </tr>\n",
       "  </tbody>\n",
       "</table>\n",
       "</div>"
      ],
      "text/plain": [
       "        Date1   Date2 Store  Sales     Date11\n",
       "0  2020-12-01  201201    A1   2000 2020-12-01\n",
       "1  2020-12-02  201202    B1   4000 2020-12-02\n",
       "2  2020-12-03  201203    E2   5000 2020-12-03\n",
       "3  2020-12-04  201204    C1   2000 2020-12-04\n",
       "4  2020-12-05  201205    D1   6000 2020-12-05"
      ]
     },
     "execution_count": 6,
     "metadata": {},
     "output_type": "execute_result"
    }
   ],
   "source": [
    "df"
   ]
  },
  {
   "cell_type": "code",
   "execution_count": 7,
   "metadata": {},
   "outputs": [
    {
     "data": {
      "text/plain": [
       "Date1             object\n",
       "Date2             object\n",
       "Store             object\n",
       "Sales              int64\n",
       "Date11    datetime64[ns]\n",
       "dtype: object"
      ]
     },
     "execution_count": 7,
     "metadata": {},
     "output_type": "execute_result"
    }
   ],
   "source": [
    "# Check the format of 'Date' column\n",
    "df.dtypes"
   ]
  },
  {
   "cell_type": "code",
   "execution_count": 8,
   "metadata": {},
   "outputs": [],
   "source": [
    "df['Date13'] = df['Date1'].astype('datetime64[ns]')"
   ]
  },
  {
   "cell_type": "code",
   "execution_count": 9,
   "metadata": {},
   "outputs": [
    {
     "data": {
      "text/html": [
       "<div>\n",
       "<style scoped>\n",
       "    .dataframe tbody tr th:only-of-type {\n",
       "        vertical-align: middle;\n",
       "    }\n",
       "\n",
       "    .dataframe tbody tr th {\n",
       "        vertical-align: top;\n",
       "    }\n",
       "\n",
       "    .dataframe thead th {\n",
       "        text-align: right;\n",
       "    }\n",
       "</style>\n",
       "<table border=\"1\" class=\"dataframe\">\n",
       "  <thead>\n",
       "    <tr style=\"text-align: right;\">\n",
       "      <th></th>\n",
       "      <th>Date1</th>\n",
       "      <th>Date2</th>\n",
       "      <th>Store</th>\n",
       "      <th>Sales</th>\n",
       "      <th>Date11</th>\n",
       "      <th>Date13</th>\n",
       "    </tr>\n",
       "  </thead>\n",
       "  <tbody>\n",
       "    <tr>\n",
       "      <th>0</th>\n",
       "      <td>2020-12-01</td>\n",
       "      <td>201201</td>\n",
       "      <td>A1</td>\n",
       "      <td>2000</td>\n",
       "      <td>2020-12-01</td>\n",
       "      <td>2020-12-01</td>\n",
       "    </tr>\n",
       "    <tr>\n",
       "      <th>1</th>\n",
       "      <td>2020-12-02</td>\n",
       "      <td>201202</td>\n",
       "      <td>B1</td>\n",
       "      <td>4000</td>\n",
       "      <td>2020-12-02</td>\n",
       "      <td>2020-12-02</td>\n",
       "    </tr>\n",
       "    <tr>\n",
       "      <th>2</th>\n",
       "      <td>2020-12-03</td>\n",
       "      <td>201203</td>\n",
       "      <td>E2</td>\n",
       "      <td>5000</td>\n",
       "      <td>2020-12-03</td>\n",
       "      <td>2020-12-03</td>\n",
       "    </tr>\n",
       "    <tr>\n",
       "      <th>3</th>\n",
       "      <td>2020-12-04</td>\n",
       "      <td>201204</td>\n",
       "      <td>C1</td>\n",
       "      <td>2000</td>\n",
       "      <td>2020-12-04</td>\n",
       "      <td>2020-12-04</td>\n",
       "    </tr>\n",
       "    <tr>\n",
       "      <th>4</th>\n",
       "      <td>2020-12-05</td>\n",
       "      <td>201205</td>\n",
       "      <td>D1</td>\n",
       "      <td>6000</td>\n",
       "      <td>2020-12-05</td>\n",
       "      <td>2020-12-05</td>\n",
       "    </tr>\n",
       "  </tbody>\n",
       "</table>\n",
       "</div>"
      ],
      "text/plain": [
       "        Date1   Date2 Store  Sales     Date11     Date13\n",
       "0  2020-12-01  201201    A1   2000 2020-12-01 2020-12-01\n",
       "1  2020-12-02  201202    B1   4000 2020-12-02 2020-12-02\n",
       "2  2020-12-03  201203    E2   5000 2020-12-03 2020-12-03\n",
       "3  2020-12-04  201204    C1   2000 2020-12-04 2020-12-04\n",
       "4  2020-12-05  201205    D1   6000 2020-12-05 2020-12-05"
      ]
     },
     "execution_count": 9,
     "metadata": {},
     "output_type": "execute_result"
    }
   ],
   "source": [
    "df"
   ]
  },
  {
   "cell_type": "code",
   "execution_count": 10,
   "metadata": {},
   "outputs": [
    {
     "data": {
      "text/plain": [
       "Date1             object\n",
       "Date2             object\n",
       "Store             object\n",
       "Sales              int64\n",
       "Date11    datetime64[ns]\n",
       "Date13    datetime64[ns]\n",
       "dtype: object"
      ]
     },
     "execution_count": 10,
     "metadata": {},
     "output_type": "execute_result"
    }
   ],
   "source": [
    "df.dtypes"
   ]
  },
  {
   "cell_type": "code",
   "execution_count": 13,
   "metadata": {},
   "outputs": [],
   "source": [
    "# convert the 'Date2' column to datetime format\n",
    "df['Date22']=pd.to_datetime(df.Date2,format='%y%m%d')"
   ]
  },
  {
   "cell_type": "code",
   "execution_count": 14,
   "metadata": {},
   "outputs": [
    {
     "data": {
      "text/html": [
       "<div>\n",
       "<style scoped>\n",
       "    .dataframe tbody tr th:only-of-type {\n",
       "        vertical-align: middle;\n",
       "    }\n",
       "\n",
       "    .dataframe tbody tr th {\n",
       "        vertical-align: top;\n",
       "    }\n",
       "\n",
       "    .dataframe thead th {\n",
       "        text-align: right;\n",
       "    }\n",
       "</style>\n",
       "<table border=\"1\" class=\"dataframe\">\n",
       "  <thead>\n",
       "    <tr style=\"text-align: right;\">\n",
       "      <th></th>\n",
       "      <th>Date1</th>\n",
       "      <th>Date2</th>\n",
       "      <th>Store</th>\n",
       "      <th>Sales</th>\n",
       "      <th>Date11</th>\n",
       "      <th>Date13</th>\n",
       "      <th>Date22</th>\n",
       "    </tr>\n",
       "  </thead>\n",
       "  <tbody>\n",
       "    <tr>\n",
       "      <th>0</th>\n",
       "      <td>2020-12-01</td>\n",
       "      <td>201201</td>\n",
       "      <td>A1</td>\n",
       "      <td>2000</td>\n",
       "      <td>2020-12-01</td>\n",
       "      <td>2020-12-01</td>\n",
       "      <td>2020-12-01</td>\n",
       "    </tr>\n",
       "    <tr>\n",
       "      <th>1</th>\n",
       "      <td>2020-12-02</td>\n",
       "      <td>201202</td>\n",
       "      <td>B1</td>\n",
       "      <td>4000</td>\n",
       "      <td>2020-12-02</td>\n",
       "      <td>2020-12-02</td>\n",
       "      <td>2020-12-02</td>\n",
       "    </tr>\n",
       "    <tr>\n",
       "      <th>2</th>\n",
       "      <td>2020-12-03</td>\n",
       "      <td>201203</td>\n",
       "      <td>E2</td>\n",
       "      <td>5000</td>\n",
       "      <td>2020-12-03</td>\n",
       "      <td>2020-12-03</td>\n",
       "      <td>2020-12-03</td>\n",
       "    </tr>\n",
       "    <tr>\n",
       "      <th>3</th>\n",
       "      <td>2020-12-04</td>\n",
       "      <td>201204</td>\n",
       "      <td>C1</td>\n",
       "      <td>2000</td>\n",
       "      <td>2020-12-04</td>\n",
       "      <td>2020-12-04</td>\n",
       "      <td>2020-12-04</td>\n",
       "    </tr>\n",
       "    <tr>\n",
       "      <th>4</th>\n",
       "      <td>2020-12-05</td>\n",
       "      <td>201205</td>\n",
       "      <td>D1</td>\n",
       "      <td>6000</td>\n",
       "      <td>2020-12-05</td>\n",
       "      <td>2020-12-05</td>\n",
       "      <td>2020-12-05</td>\n",
       "    </tr>\n",
       "  </tbody>\n",
       "</table>\n",
       "</div>"
      ],
      "text/plain": [
       "        Date1   Date2 Store  Sales     Date11     Date13     Date22\n",
       "0  2020-12-01  201201    A1   2000 2020-12-01 2020-12-01 2020-12-01\n",
       "1  2020-12-02  201202    B1   4000 2020-12-02 2020-12-02 2020-12-02\n",
       "2  2020-12-03  201203    E2   5000 2020-12-03 2020-12-03 2020-12-03\n",
       "3  2020-12-04  201204    C1   2000 2020-12-04 2020-12-04 2020-12-04\n",
       "4  2020-12-05  201205    D1   6000 2020-12-05 2020-12-05 2020-12-05"
      ]
     },
     "execution_count": 14,
     "metadata": {},
     "output_type": "execute_result"
    }
   ],
   "source": [
    "df"
   ]
  },
  {
   "cell_type": "code",
   "execution_count": 15,
   "metadata": {},
   "outputs": [
    {
     "data": {
      "text/html": [
       "<div>\n",
       "<style scoped>\n",
       "    .dataframe tbody tr th:only-of-type {\n",
       "        vertical-align: middle;\n",
       "    }\n",
       "\n",
       "    .dataframe tbody tr th {\n",
       "        vertical-align: top;\n",
       "    }\n",
       "\n",
       "    .dataframe thead th {\n",
       "        text-align: right;\n",
       "    }\n",
       "</style>\n",
       "<table border=\"1\" class=\"dataframe\">\n",
       "  <thead>\n",
       "    <tr style=\"text-align: right;\">\n",
       "      <th></th>\n",
       "      <th>Date1</th>\n",
       "      <th>Date2</th>\n",
       "      <th>Store</th>\n",
       "      <th>Sales</th>\n",
       "      <th>Date11</th>\n",
       "      <th>Date13</th>\n",
       "      <th>Date22</th>\n",
       "    </tr>\n",
       "  </thead>\n",
       "  <tbody>\n",
       "    <tr>\n",
       "      <th>0</th>\n",
       "      <td>2020-12-01</td>\n",
       "      <td>201201</td>\n",
       "      <td>A1</td>\n",
       "      <td>2000</td>\n",
       "      <td>2020-12-01</td>\n",
       "      <td>2020-12-01</td>\n",
       "      <td>2020-12-01</td>\n",
       "    </tr>\n",
       "    <tr>\n",
       "      <th>1</th>\n",
       "      <td>2020-12-02</td>\n",
       "      <td>201202</td>\n",
       "      <td>B1</td>\n",
       "      <td>4000</td>\n",
       "      <td>2020-12-02</td>\n",
       "      <td>2020-12-02</td>\n",
       "      <td>2020-12-02</td>\n",
       "    </tr>\n",
       "    <tr>\n",
       "      <th>2</th>\n",
       "      <td>2020-12-03</td>\n",
       "      <td>201203</td>\n",
       "      <td>E2</td>\n",
       "      <td>5000</td>\n",
       "      <td>2020-12-03</td>\n",
       "      <td>2020-12-03</td>\n",
       "      <td>2020-12-03</td>\n",
       "    </tr>\n",
       "    <tr>\n",
       "      <th>3</th>\n",
       "      <td>2020-12-04</td>\n",
       "      <td>201204</td>\n",
       "      <td>C1</td>\n",
       "      <td>2000</td>\n",
       "      <td>2020-12-04</td>\n",
       "      <td>2020-12-04</td>\n",
       "      <td>2020-12-04</td>\n",
       "    </tr>\n",
       "    <tr>\n",
       "      <th>4</th>\n",
       "      <td>2020-12-05</td>\n",
       "      <td>201205</td>\n",
       "      <td>D1</td>\n",
       "      <td>6000</td>\n",
       "      <td>2020-12-05</td>\n",
       "      <td>2020-12-05</td>\n",
       "      <td>2020-12-05</td>\n",
       "    </tr>\n",
       "  </tbody>\n",
       "</table>\n",
       "</div>"
      ],
      "text/plain": [
       "        Date1   Date2 Store  Sales     Date11     Date13     Date22\n",
       "0  2020-12-01  201201    A1   2000 2020-12-01 2020-12-01 2020-12-01\n",
       "1  2020-12-02  201202    B1   4000 2020-12-02 2020-12-02 2020-12-02\n",
       "2  2020-12-03  201203    E2   5000 2020-12-03 2020-12-03 2020-12-03\n",
       "3  2020-12-04  201204    C1   2000 2020-12-04 2020-12-04 2020-12-04\n",
       "4  2020-12-05  201205    D1   6000 2020-12-05 2020-12-05 2020-12-05"
      ]
     },
     "execution_count": 15,
     "metadata": {},
     "output_type": "execute_result"
    }
   ],
   "source": [
    "df"
   ]
  },
  {
   "cell_type": "code",
   "execution_count": 16,
   "metadata": {},
   "outputs": [
    {
     "data": {
      "text/plain": [
       "Date1             object\n",
       "Date2             object\n",
       "Store             object\n",
       "Sales              int64\n",
       "Date11    datetime64[ns]\n",
       "Date13    datetime64[ns]\n",
       "Date22    datetime64[ns]\n",
       "dtype: object"
      ]
     },
     "execution_count": 16,
     "metadata": {},
     "output_type": "execute_result"
    }
   ],
   "source": [
    "# Check the format of 'Date' column\n",
    "df.dtypes"
   ]
  },
  {
   "cell_type": "markdown",
   "metadata": {},
   "source": [
    "## Date Formating"
   ]
  },
  {
   "cell_type": "markdown",
   "metadata": {},
   "source": [
    "- **Code:\tMeaning\t          .....    Example** <br>\n",
    "- %A : Weekday as locale’s full name.  ......\n",
    "[ Wednesday] <br>\n",
    "- %a :\tWeekday as locale’s abbreviated name.\t.....[Wed]<br>\n",
    "- %B:\tMonth as locale’s full name.\t......[June]<br>\n",
    "- %d:\tDay of the month.\t......[06]<br>\n",
    "- %m:\tMonth as a number.\t.....[6]<br>\n",
    "- %Y:\tFour-digit year.\t......[2018]<br>\n",
    "- %y:\tTwo-digit year.\t......[18]<br>"
   ]
  },
  {
   "cell_type": "code",
   "execution_count": 17,
   "metadata": {},
   "outputs": [],
   "source": [
    "import datetime as dt"
   ]
  },
  {
   "cell_type": "code",
   "execution_count": 18,
   "metadata": {},
   "outputs": [
    {
     "data": {
      "text/html": [
       "<div>\n",
       "<style scoped>\n",
       "    .dataframe tbody tr th:only-of-type {\n",
       "        vertical-align: middle;\n",
       "    }\n",
       "\n",
       "    .dataframe tbody tr th {\n",
       "        vertical-align: top;\n",
       "    }\n",
       "\n",
       "    .dataframe thead th {\n",
       "        text-align: right;\n",
       "    }\n",
       "</style>\n",
       "<table border=\"1\" class=\"dataframe\">\n",
       "  <thead>\n",
       "    <tr style=\"text-align: right;\">\n",
       "      <th></th>\n",
       "      <th>Date1</th>\n",
       "      <th>Date2</th>\n",
       "      <th>Store</th>\n",
       "      <th>Sales</th>\n",
       "      <th>Date11</th>\n",
       "      <th>Date13</th>\n",
       "      <th>Date22</th>\n",
       "    </tr>\n",
       "  </thead>\n",
       "  <tbody>\n",
       "    <tr>\n",
       "      <th>0</th>\n",
       "      <td>2020-12-01</td>\n",
       "      <td>201201</td>\n",
       "      <td>A1</td>\n",
       "      <td>2000</td>\n",
       "      <td>2020-12-01</td>\n",
       "      <td>2020-12-01</td>\n",
       "      <td>2020-12-01</td>\n",
       "    </tr>\n",
       "    <tr>\n",
       "      <th>1</th>\n",
       "      <td>2020-12-02</td>\n",
       "      <td>201202</td>\n",
       "      <td>B1</td>\n",
       "      <td>4000</td>\n",
       "      <td>2020-12-02</td>\n",
       "      <td>2020-12-02</td>\n",
       "      <td>2020-12-02</td>\n",
       "    </tr>\n",
       "    <tr>\n",
       "      <th>2</th>\n",
       "      <td>2020-12-03</td>\n",
       "      <td>201203</td>\n",
       "      <td>E2</td>\n",
       "      <td>5000</td>\n",
       "      <td>2020-12-03</td>\n",
       "      <td>2020-12-03</td>\n",
       "      <td>2020-12-03</td>\n",
       "    </tr>\n",
       "    <tr>\n",
       "      <th>3</th>\n",
       "      <td>2020-12-04</td>\n",
       "      <td>201204</td>\n",
       "      <td>C1</td>\n",
       "      <td>2000</td>\n",
       "      <td>2020-12-04</td>\n",
       "      <td>2020-12-04</td>\n",
       "      <td>2020-12-04</td>\n",
       "    </tr>\n",
       "    <tr>\n",
       "      <th>4</th>\n",
       "      <td>2020-12-05</td>\n",
       "      <td>201205</td>\n",
       "      <td>D1</td>\n",
       "      <td>6000</td>\n",
       "      <td>2020-12-05</td>\n",
       "      <td>2020-12-05</td>\n",
       "      <td>2020-12-05</td>\n",
       "    </tr>\n",
       "  </tbody>\n",
       "</table>\n",
       "</div>"
      ],
      "text/plain": [
       "        Date1   Date2 Store  Sales     Date11     Date13     Date22\n",
       "0  2020-12-01  201201    A1   2000 2020-12-01 2020-12-01 2020-12-01\n",
       "1  2020-12-02  201202    B1   4000 2020-12-02 2020-12-02 2020-12-02\n",
       "2  2020-12-03  201203    E2   5000 2020-12-03 2020-12-03 2020-12-03\n",
       "3  2020-12-04  201204    C1   2000 2020-12-04 2020-12-04 2020-12-04\n",
       "4  2020-12-05  201205    D1   6000 2020-12-05 2020-12-05 2020-12-05"
      ]
     },
     "execution_count": 18,
     "metadata": {},
     "output_type": "execute_result"
    }
   ],
   "source": [
    "df"
   ]
  },
  {
   "cell_type": "code",
   "execution_count": 24,
   "metadata": {},
   "outputs": [],
   "source": [
    "df['date112']=df.Date11.dt.strftime(\"%Y\")"
   ]
  },
  {
   "cell_type": "code",
   "execution_count": 25,
   "metadata": {},
   "outputs": [
    {
     "data": {
      "text/html": [
       "<div>\n",
       "<style scoped>\n",
       "    .dataframe tbody tr th:only-of-type {\n",
       "        vertical-align: middle;\n",
       "    }\n",
       "\n",
       "    .dataframe tbody tr th {\n",
       "        vertical-align: top;\n",
       "    }\n",
       "\n",
       "    .dataframe thead th {\n",
       "        text-align: right;\n",
       "    }\n",
       "</style>\n",
       "<table border=\"1\" class=\"dataframe\">\n",
       "  <thead>\n",
       "    <tr style=\"text-align: right;\">\n",
       "      <th></th>\n",
       "      <th>Date1</th>\n",
       "      <th>Date2</th>\n",
       "      <th>Store</th>\n",
       "      <th>Sales</th>\n",
       "      <th>Date11</th>\n",
       "      <th>Date13</th>\n",
       "      <th>Date22</th>\n",
       "      <th>date112</th>\n",
       "    </tr>\n",
       "  </thead>\n",
       "  <tbody>\n",
       "    <tr>\n",
       "      <th>0</th>\n",
       "      <td>2020-12-01</td>\n",
       "      <td>201201</td>\n",
       "      <td>A1</td>\n",
       "      <td>2000</td>\n",
       "      <td>2020-12-01</td>\n",
       "      <td>2020-12-01</td>\n",
       "      <td>2020-12-01</td>\n",
       "      <td>2020</td>\n",
       "    </tr>\n",
       "    <tr>\n",
       "      <th>1</th>\n",
       "      <td>2020-12-02</td>\n",
       "      <td>201202</td>\n",
       "      <td>B1</td>\n",
       "      <td>4000</td>\n",
       "      <td>2020-12-02</td>\n",
       "      <td>2020-12-02</td>\n",
       "      <td>2020-12-02</td>\n",
       "      <td>2020</td>\n",
       "    </tr>\n",
       "    <tr>\n",
       "      <th>2</th>\n",
       "      <td>2020-12-03</td>\n",
       "      <td>201203</td>\n",
       "      <td>E2</td>\n",
       "      <td>5000</td>\n",
       "      <td>2020-12-03</td>\n",
       "      <td>2020-12-03</td>\n",
       "      <td>2020-12-03</td>\n",
       "      <td>2020</td>\n",
       "    </tr>\n",
       "    <tr>\n",
       "      <th>3</th>\n",
       "      <td>2020-12-04</td>\n",
       "      <td>201204</td>\n",
       "      <td>C1</td>\n",
       "      <td>2000</td>\n",
       "      <td>2020-12-04</td>\n",
       "      <td>2020-12-04</td>\n",
       "      <td>2020-12-04</td>\n",
       "      <td>2020</td>\n",
       "    </tr>\n",
       "    <tr>\n",
       "      <th>4</th>\n",
       "      <td>2020-12-05</td>\n",
       "      <td>201205</td>\n",
       "      <td>D1</td>\n",
       "      <td>6000</td>\n",
       "      <td>2020-12-05</td>\n",
       "      <td>2020-12-05</td>\n",
       "      <td>2020-12-05</td>\n",
       "      <td>2020</td>\n",
       "    </tr>\n",
       "  </tbody>\n",
       "</table>\n",
       "</div>"
      ],
      "text/plain": [
       "        Date1   Date2 Store  Sales     Date11     Date13     Date22 date112\n",
       "0  2020-12-01  201201    A1   2000 2020-12-01 2020-12-01 2020-12-01    2020\n",
       "1  2020-12-02  201202    B1   4000 2020-12-02 2020-12-02 2020-12-02    2020\n",
       "2  2020-12-03  201203    E2   5000 2020-12-03 2020-12-03 2020-12-03    2020\n",
       "3  2020-12-04  201204    C1   2000 2020-12-04 2020-12-04 2020-12-04    2020\n",
       "4  2020-12-05  201205    D1   6000 2020-12-05 2020-12-05 2020-12-05    2020"
      ]
     },
     "execution_count": 25,
     "metadata": {},
     "output_type": "execute_result"
    }
   ],
   "source": [
    "df"
   ]
  },
  {
   "cell_type": "code",
   "execution_count": null,
   "metadata": {},
   "outputs": [],
   "source": []
  }
 ],
 "metadata": {
  "kernelspec": {
   "display_name": "Python 3",
   "language": "python",
   "name": "python3"
  },
  "language_info": {
   "codemirror_mode": {
    "name": "ipython",
    "version": 3
   },
   "file_extension": ".py",
   "mimetype": "text/x-python",
   "name": "python",
   "nbconvert_exporter": "python",
   "pygments_lexer": "ipython3",
   "version": "3.7.0"
  }
 },
 "nbformat": 4,
 "nbformat_minor": 2
}
